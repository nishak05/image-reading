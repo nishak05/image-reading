{
  "nbformat": 4,
  "nbformat_minor": 0,
  "metadata": {
    "colab": {
      "provenance": []
    },
    "kernelspec": {
      "name": "python3",
      "display_name": "Python 3"
    },
    "language_info": {
      "name": "python"
    }
  },
  "cells": [
    {
      "cell_type": "markdown",
      "source": [
        "READING IMAGE AND CHANGING FILE NAME"
      ],
      "metadata": {
        "id": "ephHWB8IJUg1"
      }
    },
    {
      "cell_type": "code",
      "execution_count": null,
      "metadata": {
        "id": "AUxjXlmLHsGi"
      },
      "outputs": [],
      "source": [
        "import cv2"
      ]
    },
    {
      "cell_type": "code",
      "source": [
        "img = cv2.imread('butterfly.jpg', -1)\n",
        "\n",
        "print(img)"
      ],
      "metadata": {
        "id": "Xi5iW49OIMBE"
      },
      "execution_count": null,
      "outputs": []
    },
    {
      "cell_type": "code",
      "source": [
        "cv2.imshow('image', img)\n",
        "cv2.waitKey(0)\n",
        "cv2.destroyAllWindows()\n",
        "\n",
        "cv2.imwrite('butterfly_file.png', img)"
      ],
      "metadata": {
        "id": "haFW_PxjIMmV"
      },
      "execution_count": null,
      "outputs": []
    },
    {
      "cell_type": "markdown",
      "source": [
        "USING AN ESCAPE BUTTON"
      ],
      "metadata": {
        "id": "9s9KG1HGJgfD"
      }
    },
    {
      "cell_type": "code",
      "source": [
        "import cv2"
      ],
      "metadata": {
        "id": "5mNIEQ_OJuxR"
      },
      "execution_count": null,
      "outputs": []
    },
    {
      "cell_type": "code",
      "source": [
        "img = cv2.imread('butterfly.jpg', 0)\n",
        "\n",
        "cv2.imshow('image', img)\n",
        "k=cv2.waitKey(0)\n"
      ],
      "metadata": {
        "id": "AaoqnKd3J0S0"
      },
      "execution_count": null,
      "outputs": []
    },
    {
      "cell_type": "code",
      "source": [
        "if k==27:\n",
        "    cv2.destroyAllWindows()\n",
        "elif k==ord('s'):\n",
        "    cv2.imwrite('butterfly_file.png', img)\n",
        "    cv2.destroyAllWindows()"
      ],
      "metadata": {
        "id": "i7tw_-nWJ5hf"
      },
      "execution_count": null,
      "outputs": []
    }
  ]
}